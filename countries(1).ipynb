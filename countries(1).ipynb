{
  "cells": [
    {
      "cell_type": "code",
      "execution_count": 1,
      "metadata": {
        "colab": {
          "base_uri": "https://localhost:8080/"
        },
        "id": "ZFTwo5Nb0sEX",
        "outputId": "92792341-7db8-4353-8961-16888d38cd8b"
      },
      "outputs": [
        {
          "name": "stdout",
          "output_type": "stream",
          "text": [
            "Requirement already satisfied: densitypeakclustering in c:\\users\\nguye\\anaconda3\\envs\\iot\\lib\\site-packages (1.0.1)\n",
            "Requirement already satisfied: numpy in c:\\users\\nguye\\anaconda3\\envs\\iot\\lib\\site-packages (from densitypeakclustering) (1.26.4)\n",
            "Requirement already satisfied: scikit-learn in c:\\users\\nguye\\anaconda3\\envs\\iot\\lib\\site-packages (from densitypeakclustering) (1.5.1)\n",
            "Requirement already satisfied: matplotlib in c:\\users\\nguye\\anaconda3\\envs\\iot\\lib\\site-packages (from densitypeakclustering) (3.8.4)\n",
            "Requirement already satisfied: contourpy>=1.0.1 in c:\\users\\nguye\\anaconda3\\envs\\iot\\lib\\site-packages (from matplotlib->densitypeakclustering) (1.2.0)\n",
            "Requirement already satisfied: cycler>=0.10 in c:\\users\\nguye\\anaconda3\\envs\\iot\\lib\\site-packages (from matplotlib->densitypeakclustering) (0.11.0)\n",
            "Requirement already satisfied: fonttools>=4.22.0 in c:\\users\\nguye\\anaconda3\\envs\\iot\\lib\\site-packages (from matplotlib->densitypeakclustering) (4.51.0)\n",
            "Requirement already satisfied: kiwisolver>=1.3.1 in c:\\users\\nguye\\anaconda3\\envs\\iot\\lib\\site-packages (from matplotlib->densitypeakclustering) (1.4.4)\n",
            "Requirement already satisfied: packaging>=20.0 in c:\\users\\nguye\\anaconda3\\envs\\iot\\lib\\site-packages (from matplotlib->densitypeakclustering) (24.1)\n",
            "Requirement already satisfied: pillow>=8 in c:\\users\\nguye\\anaconda3\\envs\\iot\\lib\\site-packages (from matplotlib->densitypeakclustering) (10.4.0)\n",
            "Requirement already satisfied: pyparsing>=2.3.1 in c:\\users\\nguye\\anaconda3\\envs\\iot\\lib\\site-packages (from matplotlib->densitypeakclustering) (3.0.9)\n",
            "Requirement already satisfied: python-dateutil>=2.7 in c:\\users\\nguye\\anaconda3\\envs\\iot\\lib\\site-packages (from matplotlib->densitypeakclustering) (2.9.0.post0)\n",
            "Requirement already satisfied: scipy>=1.6.0 in c:\\users\\nguye\\anaconda3\\envs\\iot\\lib\\site-packages (from scikit-learn->densitypeakclustering) (1.14.1)\n",
            "Requirement already satisfied: joblib>=1.2.0 in c:\\users\\nguye\\anaconda3\\envs\\iot\\lib\\site-packages (from scikit-learn->densitypeakclustering) (1.4.2)\n",
            "Requirement already satisfied: threadpoolctl>=3.1.0 in c:\\users\\nguye\\anaconda3\\envs\\iot\\lib\\site-packages (from scikit-learn->densitypeakclustering) (3.5.0)\n",
            "Requirement already satisfied: six>=1.5 in c:\\users\\nguye\\anaconda3\\envs\\iot\\lib\\site-packages (from python-dateutil>=2.7->matplotlib->densitypeakclustering) (1.16.0)\n"
          ]
        }
      ],
      "source": [
        "!pip install densitypeakclustering"
      ]
    },
    {
      "cell_type": "code",
      "execution_count": 2,
      "metadata": {
        "id": "poWC82vLkglY"
      },
      "outputs": [],
      "source": [
        "import pandas as pd\n",
        "import numpy as np\n",
        "import matplotlib.pyplot as plt\n",
        "import seaborn as sns\n",
        "import sklearn.metrics\n",
        "import sklearn.model_selection\n",
        "from sklearn.cluster import DBSCAN,KMeans\n",
        "from sklearn.preprocessing import StandardScaler\n",
        "from sklearn.neighbors import NearestNeighbors\n",
        "from sklearn.metrics import silhouette_score\n",
        "from scipy.spatial.distance import pdist, squareform\n",
        "import geopandas as gpd"
      ]
    },
    {
      "cell_type": "code",
      "execution_count": 3,
      "metadata": {},
      "outputs": [
        {
          "name": "stdout",
          "output_type": "stream",
          "text": [
            "5.10.4\n"
          ]
        }
      ],
      "source": [
        "import nbformat\n",
        "print(nbformat.__version__)"
      ]
    },
    {
      "cell_type": "code",
      "execution_count": 4,
      "metadata": {
        "colab": {
          "base_uri": "https://localhost:8080/",
          "height": 423
        },
        "id": "q_tZ1_2Gl37a",
        "outputId": "382125ca-1741-4759-c98c-23c64b4e2e23"
      },
      "outputs": [
        {
          "data": {
            "text/html": [
              "<div>\n",
              "<style scoped>\n",
              "    .dataframe tbody tr th:only-of-type {\n",
              "        vertical-align: middle;\n",
              "    }\n",
              "\n",
              "    .dataframe tbody tr th {\n",
              "        vertical-align: top;\n",
              "    }\n",
              "\n",
              "    .dataframe thead th {\n",
              "        text-align: right;\n",
              "    }\n",
              "</style>\n",
              "<table border=\"1\" class=\"dataframe\">\n",
              "  <thead>\n",
              "    <tr style=\"text-align: right;\">\n",
              "      <th></th>\n",
              "      <th>country</th>\n",
              "      <th>latitude</th>\n",
              "      <th>longitude</th>\n",
              "      <th>name</th>\n",
              "    </tr>\n",
              "  </thead>\n",
              "  <tbody>\n",
              "    <tr>\n",
              "      <th>0</th>\n",
              "      <td>AD</td>\n",
              "      <td>42.546245</td>\n",
              "      <td>1.601554</td>\n",
              "      <td>Andorra</td>\n",
              "    </tr>\n",
              "    <tr>\n",
              "      <th>1</th>\n",
              "      <td>AE</td>\n",
              "      <td>23.424076</td>\n",
              "      <td>53.847818</td>\n",
              "      <td>United Arab Emirates</td>\n",
              "    </tr>\n",
              "    <tr>\n",
              "      <th>2</th>\n",
              "      <td>AF</td>\n",
              "      <td>33.939110</td>\n",
              "      <td>67.709953</td>\n",
              "      <td>Afghanistan</td>\n",
              "    </tr>\n",
              "    <tr>\n",
              "      <th>3</th>\n",
              "      <td>AG</td>\n",
              "      <td>17.060816</td>\n",
              "      <td>-61.796428</td>\n",
              "      <td>Antigua and Barbuda</td>\n",
              "    </tr>\n",
              "    <tr>\n",
              "      <th>4</th>\n",
              "      <td>AI</td>\n",
              "      <td>18.220554</td>\n",
              "      <td>-63.068615</td>\n",
              "      <td>Anguilla</td>\n",
              "    </tr>\n",
              "    <tr>\n",
              "      <th>...</th>\n",
              "      <td>...</td>\n",
              "      <td>...</td>\n",
              "      <td>...</td>\n",
              "      <td>...</td>\n",
              "    </tr>\n",
              "    <tr>\n",
              "      <th>240</th>\n",
              "      <td>YE</td>\n",
              "      <td>15.552727</td>\n",
              "      <td>48.516388</td>\n",
              "      <td>Yemen</td>\n",
              "    </tr>\n",
              "    <tr>\n",
              "      <th>241</th>\n",
              "      <td>YT</td>\n",
              "      <td>-12.827500</td>\n",
              "      <td>45.166244</td>\n",
              "      <td>Mayotte</td>\n",
              "    </tr>\n",
              "    <tr>\n",
              "      <th>242</th>\n",
              "      <td>ZA</td>\n",
              "      <td>-30.559482</td>\n",
              "      <td>22.937506</td>\n",
              "      <td>South Africa</td>\n",
              "    </tr>\n",
              "    <tr>\n",
              "      <th>243</th>\n",
              "      <td>ZM</td>\n",
              "      <td>-13.133897</td>\n",
              "      <td>27.849332</td>\n",
              "      <td>Zambia</td>\n",
              "    </tr>\n",
              "    <tr>\n",
              "      <th>244</th>\n",
              "      <td>ZW</td>\n",
              "      <td>-19.015438</td>\n",
              "      <td>29.154857</td>\n",
              "      <td>Zimbabwe</td>\n",
              "    </tr>\n",
              "  </tbody>\n",
              "</table>\n",
              "<p>245 rows × 4 columns</p>\n",
              "</div>"
            ],
            "text/plain": [
              "    country   latitude  longitude                  name\n",
              "0        AD  42.546245   1.601554               Andorra\n",
              "1        AE  23.424076  53.847818  United Arab Emirates\n",
              "2        AF  33.939110  67.709953           Afghanistan\n",
              "3        AG  17.060816 -61.796428   Antigua and Barbuda\n",
              "4        AI  18.220554 -63.068615              Anguilla\n",
              "..      ...        ...        ...                   ...\n",
              "240      YE  15.552727  48.516388                 Yemen\n",
              "241      YT -12.827500  45.166244               Mayotte\n",
              "242      ZA -30.559482  22.937506          South Africa\n",
              "243      ZM -13.133897  27.849332                Zambia\n",
              "244      ZW -19.015438  29.154857              Zimbabwe\n",
              "\n",
              "[245 rows x 4 columns]"
            ]
          },
          "execution_count": 4,
          "metadata": {},
          "output_type": "execute_result"
        }
      ],
      "source": [
        "path = r'D:\\Research_ICNlab\\Clustering\\Data\\countries (1).csv'\n",
        "data = pd.read_csv(path)\n",
        "data"
      ]
    },
    {
      "cell_type": "code",
      "execution_count": 5,
      "metadata": {
        "colab": {
          "base_uri": "https://localhost:8080/",
          "height": 559
        },
        "id": "Lva7HzKmmKj2",
        "outputId": "5af5325e-1717-492a-9178-a84cd6e7eae2"
      },
      "outputs": [
        {
          "data": {
            "application/vnd.plotly.v1+json": {
              "config": {
                "plotlyServerURL": "https://plot.ly"
              },
              "data": [
                {
                  "hovertemplate": "name=%{text}<br>latitude=%{lat}<br>longitude=%{lon}<extra></extra>",
                  "lat": [
                    42.546245,
                    23.424076,
                    33.93911,
                    17.060816,
                    18.220554,
                    41.153332,
                    40.069099,
                    12.226079,
                    -11.202692,
                    -75.250973,
                    -38.416097,
                    -14.270972,
                    47.516231,
                    -25.274398,
                    12.52111,
                    40.143105,
                    43.915886,
                    13.193887,
                    23.684994,
                    50.503887,
                    12.238333,
                    42.733883,
                    25.930414,
                    -3.373056,
                    9.30769,
                    32.321384,
                    4.535277,
                    -16.290154,
                    -14.235004,
                    25.03428,
                    27.514162,
                    -54.423199,
                    -22.328474,
                    53.709807,
                    17.189877,
                    56.130366,
                    -12.164165,
                    -4.038333,
                    6.611111,
                    -0.228021,
                    46.818188,
                    7.539989,
                    -21.236736,
                    -35.675147,
                    7.369722,
                    35.86166,
                    4.570868,
                    9.748917,
                    21.521757,
                    16.002082,
                    -10.447525,
                    35.126413,
                    49.817492,
                    51.165691,
                    11.825138,
                    56.26392,
                    15.414999,
                    18.735693,
                    28.033886,
                    -1.831239,
                    58.595272,
                    26.820553,
                    24.215527,
                    15.179384,
                    40.463667,
                    9.145,
                    61.92411,
                    -16.578193,
                    -51.796253,
                    7.425554,
                    61.892635,
                    46.227638,
                    -0.803689,
                    55.378051,
                    12.262776,
                    42.315407,
                    3.933889,
                    49.465691,
                    7.946527,
                    36.137741,
                    71.706936,
                    13.443182,
                    9.945587,
                    16.995971,
                    1.650801,
                    39.074208,
                    -54.429579,
                    15.783471,
                    13.444304,
                    11.803749,
                    4.860416,
                    31.354676,
                    22.396428,
                    -53.08181,
                    15.199999,
                    45.1,
                    18.971187,
                    47.162494,
                    -0.789275,
                    53.41291,
                    31.046051,
                    54.236107,
                    20.593684,
                    -6.343194,
                    33.223191,
                    32.427908,
                    64.963051,
                    41.87194,
                    49.214439,
                    18.109581,
                    30.585164,
                    36.204824,
                    -0.023559,
                    41.20438,
                    12.565679,
                    -3.370417,
                    -11.875001,
                    17.357822,
                    40.339852,
                    35.907757,
                    29.31166,
                    19.513469,
                    48.019573,
                    19.85627,
                    33.854721,
                    13.909444,
                    47.166,
                    7.873054,
                    6.428055,
                    -29.609988,
                    55.169438,
                    49.815273,
                    56.879635,
                    26.3351,
                    31.791702,
                    43.750298,
                    47.411631,
                    42.708678,
                    -18.766947,
                    7.131474,
                    41.608635,
                    17.570692,
                    21.913965,
                    46.862496,
                    22.198745,
                    17.33083,
                    14.641528,
                    21.00789,
                    16.742498,
                    35.937496,
                    -20.348404,
                    3.202778,
                    -13.254308,
                    23.634501,
                    4.210484,
                    -18.665695,
                    -22.95764,
                    -20.904305,
                    17.607789,
                    -29.040835,
                    9.081999,
                    12.865416,
                    52.132633,
                    60.472024,
                    28.394857,
                    -0.522778,
                    -19.054445,
                    -40.900557,
                    21.512583,
                    8.537981,
                    -9.189967,
                    -17.679742,
                    -6.314993,
                    12.879721,
                    30.375321,
                    51.919438,
                    46.941936,
                    -24.703615,
                    18.220833,
                    31.952162,
                    39.399872,
                    7.51498,
                    -23.442503,
                    25.354826,
                    -21.115141,
                    45.943161,
                    44.016521,
                    61.52401,
                    -1.940278,
                    23.885942,
                    -9.64571,
                    -4.679574,
                    12.862807,
                    60.128161,
                    1.352083,
                    -24.143474,
                    46.151241,
                    77.553604,
                    48.669026,
                    8.460555,
                    43.94236,
                    14.497401,
                    5.152149,
                    3.919305,
                    0.18636,
                    13.794185,
                    34.802075,
                    -26.522503,
                    21.694025,
                    15.454166,
                    -49.280366,
                    8.619543,
                    15.870032,
                    38.861034,
                    -8.967363,
                    -8.874217,
                    38.969719,
                    33.886917,
                    -21.178986,
                    38.963745,
                    10.691803,
                    -7.109535,
                    23.69781,
                    -6.369028,
                    48.379433,
                    1.373333,
                    null,
                    37.09024,
                    -32.522779,
                    41.377491,
                    41.902916,
                    12.984305,
                    6.42375,
                    18.420695,
                    18.335765,
                    14.058324,
                    -15.376706,
                    -13.768752,
                    -13.759029,
                    42.602636,
                    15.552727,
                    -12.8275,
                    -30.559482,
                    -13.133897,
                    -19.015438
                  ],
                  "legendgroup": "",
                  "lon": [
                    1.601554,
                    53.847818,
                    67.709953,
                    -61.796428,
                    -63.068615,
                    20.168331,
                    45.038189,
                    -69.060087,
                    17.873887,
                    -0.071389,
                    -63.616672,
                    -170.132217,
                    14.550072,
                    133.775136,
                    -69.968338,
                    47.576927,
                    17.679076,
                    -59.543198,
                    90.356331,
                    4.469936,
                    -1.561593,
                    25.48583,
                    50.637772,
                    29.918886,
                    2.315834,
                    -64.75737,
                    114.727669,
                    -63.588653,
                    -51.92528,
                    -77.39628,
                    90.433601,
                    3.413194,
                    24.684866,
                    27.953389,
                    -88.49765,
                    -106.346771,
                    96.870956,
                    21.758664,
                    20.939444,
                    15.827659,
                    8.227512,
                    -5.54708,
                    -159.777671,
                    -71.542969,
                    12.354722,
                    104.195397,
                    -74.297333,
                    -83.753428,
                    -77.781167,
                    -24.013197,
                    105.690449,
                    33.429859,
                    15.472962,
                    10.451526,
                    42.590275,
                    9.501785,
                    -61.370976,
                    -70.162651,
                    1.659626,
                    -78.183406,
                    25.013607,
                    30.802498,
                    -12.885834,
                    39.782334,
                    -3.74922,
                    40.489673,
                    25.748151,
                    179.414413,
                    -59.523613,
                    150.550812,
                    -6.911806,
                    2.213749,
                    11.609444,
                    -3.435973,
                    -61.604171,
                    43.356892,
                    -53.125782,
                    -2.585278,
                    -1.023194,
                    -5.345374,
                    -42.604303,
                    -15.310139,
                    -9.696645,
                    -62.067641,
                    10.267895,
                    21.824312,
                    -36.587909,
                    -90.230759,
                    144.793731,
                    -15.180413,
                    -58.93018,
                    34.308825,
                    114.109497,
                    73.504158,
                    -86.241905,
                    15.2,
                    -72.285215,
                    19.503304,
                    113.921327,
                    -8.24389,
                    34.851612,
                    -4.548056,
                    78.96288,
                    71.876519,
                    43.679291,
                    53.688046,
                    -19.020835,
                    12.56738,
                    -2.13125,
                    -77.297508,
                    36.238414,
                    138.252924,
                    37.906193,
                    74.766098,
                    104.990963,
                    -168.734039,
                    43.872219,
                    -62.782998,
                    127.510093,
                    127.766922,
                    47.481766,
                    -80.566956,
                    66.923684,
                    102.495496,
                    35.862285,
                    -60.978893,
                    9.555373,
                    80.771797,
                    -9.429499,
                    28.233608,
                    23.881275,
                    6.129583,
                    24.603189,
                    17.228331,
                    -7.09262,
                    7.412841,
                    28.369885,
                    19.37439,
                    46.869107,
                    171.184478,
                    21.745275,
                    -3.996166,
                    95.956223,
                    103.846656,
                    113.543873,
                    145.38469,
                    -61.024174,
                    -10.940835,
                    -62.187366,
                    14.375416,
                    57.552152,
                    73.22068,
                    34.301525,
                    -102.552784,
                    101.975766,
                    35.529562,
                    18.49041,
                    165.618042,
                    8.081666,
                    167.954712,
                    8.675277,
                    -85.207229,
                    5.291266,
                    8.468946,
                    84.124008,
                    166.931503,
                    -169.867233,
                    174.885971,
                    55.923255,
                    -80.782127,
                    -75.015152,
                    -149.406843,
                    143.95555,
                    121.774017,
                    69.345116,
                    19.145136,
                    -56.27111,
                    -127.439308,
                    -66.590149,
                    35.233154,
                    -8.224454,
                    134.58252,
                    -58.443832,
                    51.183884,
                    55.536384,
                    24.96676,
                    21.005859,
                    105.318756,
                    29.873888,
                    45.079162,
                    160.156194,
                    55.491977,
                    30.217636,
                    18.643501,
                    103.819836,
                    -10.030696,
                    14.995463,
                    23.670272,
                    19.699024,
                    -11.779889,
                    12.457777,
                    -14.452362,
                    46.199616,
                    -56.027783,
                    6.613081,
                    -88.89653,
                    38.996815,
                    31.465866,
                    -71.797928,
                    18.732207,
                    69.348557,
                    0.824782,
                    100.992541,
                    71.276093,
                    -171.855881,
                    125.727539,
                    59.556278,
                    9.537499,
                    -175.198242,
                    35.243322,
                    -61.222503,
                    177.64933,
                    120.960515,
                    34.888822,
                    31.16558,
                    32.290275,
                    null,
                    -95.712891,
                    -55.765835,
                    64.585262,
                    12.453389,
                    -61.287228,
                    -66.58973,
                    -64.639968,
                    -64.896335,
                    108.277199,
                    166.959158,
                    -177.156097,
                    -172.104629,
                    20.902977,
                    48.516388,
                    45.166244,
                    22.937506,
                    27.849332,
                    29.154857
                  ],
                  "marker": {
                    "color": "#636efa"
                  },
                  "mode": "markers+text",
                  "name": "",
                  "showlegend": false,
                  "subplot": "mapbox",
                  "text": [
                    "Andorra",
                    "United Arab Emirates",
                    "Afghanistan",
                    "Antigua and Barbuda",
                    "Anguilla",
                    "Albania",
                    "Armenia",
                    "Netherlands Antilles",
                    "Angola",
                    "Antarctica",
                    "Argentina",
                    "American Samoa",
                    "Austria",
                    "Australia",
                    "Aruba",
                    "Azerbaijan",
                    "Bosnia and Herzegovina",
                    "Barbados",
                    "Bangladesh",
                    "Belgium",
                    "Burkina Faso",
                    "Bulgaria",
                    "Bahrain",
                    "Burundi",
                    "Benin",
                    "Bermuda",
                    "Brunei",
                    "Bolivia",
                    "Brazil",
                    "Bahamas",
                    "Bhutan",
                    "Bouvet Island",
                    "Botswana",
                    "Belarus",
                    "Belize",
                    "Canada",
                    "Cocos [Keeling] Islands",
                    "Congo [DRC]",
                    "Central African Republic",
                    "Congo [Republic]",
                    "Switzerland",
                    "Côte d'Ivoire",
                    "Cook Islands",
                    "Chile",
                    "Cameroon",
                    "China",
                    "Colombia",
                    "Costa Rica",
                    "Cuba",
                    "Cape Verde",
                    "Christmas Island",
                    "Cyprus",
                    "Czech Republic",
                    "Germany",
                    "Djibouti",
                    "Denmark",
                    "Dominica",
                    "Dominican Republic",
                    "Algeria",
                    "Ecuador",
                    "Estonia",
                    "Egypt",
                    "Western Sahara",
                    "Eritrea",
                    "Spain",
                    "Ethiopia",
                    "Finland",
                    "Fiji",
                    "Falkland Islands [Islas Malvinas]",
                    "Micronesia",
                    "Faroe Islands",
                    "France",
                    "Gabon",
                    "United Kingdom",
                    "Grenada",
                    "Georgia",
                    "French Guiana",
                    "Guernsey",
                    "Ghana",
                    "Gibraltar",
                    "Greenland",
                    "Gambia",
                    "Guinea",
                    "Guadeloupe",
                    "Equatorial Guinea",
                    "Greece",
                    "South Georgia and the South Sandwich Islands",
                    "Guatemala",
                    "Guam",
                    "Guinea-Bissau",
                    "Guyana",
                    "Gaza Strip",
                    "Hong Kong",
                    "Heard Island and McDonald Islands",
                    "Honduras",
                    "Croatia",
                    "Haiti",
                    "Hungary",
                    "Indonesia",
                    "Ireland",
                    "Israel",
                    "Isle of Man",
                    "India",
                    "British Indian Ocean Territory",
                    "Iraq",
                    "Iran",
                    "Iceland",
                    "Italy",
                    "Jersey",
                    "Jamaica",
                    "Jordan",
                    "Japan",
                    "Kenya",
                    "Kyrgyzstan",
                    "Cambodia",
                    "Kiribati",
                    "Comoros",
                    "Saint Kitts and Nevis",
                    "North Korea",
                    "South Korea",
                    "Kuwait",
                    "Cayman Islands",
                    "Kazakhstan",
                    "Laos",
                    "Lebanon",
                    "Saint Lucia",
                    "Liechtenstein",
                    "Sri Lanka",
                    "Liberia",
                    "Lesotho",
                    "Lithuania",
                    "Luxembourg",
                    "Latvia",
                    "Libya",
                    "Morocco",
                    "Monaco",
                    "Moldova",
                    "Montenegro",
                    "Madagascar",
                    "Marshall Islands",
                    "Macedonia [FYROM]",
                    "Mali",
                    "Myanmar [Burma]",
                    "Mongolia",
                    "Macau",
                    "Northern Mariana Islands",
                    "Martinique",
                    "Mauritania",
                    "Montserrat",
                    "Malta",
                    "Mauritius",
                    "Maldives",
                    "Malawi",
                    "Mexico",
                    "Malaysia",
                    "Mozambique",
                    "Namibia",
                    "New Caledonia",
                    "Niger",
                    "Norfolk Island",
                    "Nigeria",
                    "Nicaragua",
                    "Netherlands",
                    "Norway",
                    "Nepal",
                    "Nauru",
                    "Niue",
                    "New Zealand",
                    "Oman",
                    "Panama",
                    "Peru",
                    "French Polynesia",
                    "Papua New Guinea",
                    "Philippines",
                    "Pakistan",
                    "Poland",
                    "Saint Pierre and Miquelon",
                    "Pitcairn Islands",
                    "Puerto Rico",
                    "Palestinian Territories",
                    "Portugal",
                    "Palau",
                    "Paraguay",
                    "Qatar",
                    "Réunion",
                    "Romania",
                    "Serbia",
                    "Russia",
                    "Rwanda",
                    "Saudi Arabia",
                    "Solomon Islands",
                    "Seychelles",
                    "Sudan",
                    "Sweden",
                    "Singapore",
                    "Saint Helena",
                    "Slovenia",
                    "Svalbard and Jan Mayen",
                    "Slovakia",
                    "Sierra Leone",
                    "San Marino",
                    "Senegal",
                    "Somalia",
                    "Suriname",
                    "São Tomé and Príncipe",
                    "El Salvador",
                    "Syria",
                    "Swaziland",
                    "Turks and Caicos Islands",
                    "Chad",
                    "French Southern Territories",
                    "Togo",
                    "Thailand",
                    "Tajikistan",
                    "Tokelau",
                    "Timor-Leste",
                    "Turkmenistan",
                    "Tunisia",
                    "Tonga",
                    "Turkey",
                    "Trinidad and Tobago",
                    "Tuvalu",
                    "Taiwan",
                    "Tanzania",
                    "Ukraine",
                    "Uganda",
                    "U.S. Minor Outlying Islands",
                    "United States",
                    "Uruguay",
                    "Uzbekistan",
                    "Vatican City",
                    "Saint Vincent and the Grenadines",
                    "Venezuela",
                    "British Virgin Islands",
                    "U.S. Virgin Islands",
                    "Vietnam",
                    "Vanuatu",
                    "Wallis and Futuna",
                    "Samoa",
                    "Kosovo",
                    "Yemen",
                    "Mayotte",
                    "South Africa",
                    "Zambia",
                    "Zimbabwe"
                  ],
                  "type": "scattermapbox"
                }
              ],
              "layout": {
                "height": 600,
                "legend": {
                  "tracegroupgap": 0
                },
                "mapbox": {
                  "center": {
                    "lat": 16.2531093647541,
                    "lon": 13.294813586065574
                  },
                  "domain": {
                    "x": [
                      0,
                      1
                    ],
                    "y": [
                      0,
                      1
                    ]
                  },
                  "style": "open-street-map",
                  "zoom": 1
                },
                "margin": {
                  "t": 60
                },
                "template": {
                  "data": {
                    "bar": [
                      {
                        "error_x": {
                          "color": "#2a3f5f"
                        },
                        "error_y": {
                          "color": "#2a3f5f"
                        },
                        "marker": {
                          "line": {
                            "color": "#E5ECF6",
                            "width": 0.5
                          },
                          "pattern": {
                            "fillmode": "overlay",
                            "size": 10,
                            "solidity": 0.2
                          }
                        },
                        "type": "bar"
                      }
                    ],
                    "barpolar": [
                      {
                        "marker": {
                          "line": {
                            "color": "#E5ECF6",
                            "width": 0.5
                          },
                          "pattern": {
                            "fillmode": "overlay",
                            "size": 10,
                            "solidity": 0.2
                          }
                        },
                        "type": "barpolar"
                      }
                    ],
                    "carpet": [
                      {
                        "aaxis": {
                          "endlinecolor": "#2a3f5f",
                          "gridcolor": "white",
                          "linecolor": "white",
                          "minorgridcolor": "white",
                          "startlinecolor": "#2a3f5f"
                        },
                        "baxis": {
                          "endlinecolor": "#2a3f5f",
                          "gridcolor": "white",
                          "linecolor": "white",
                          "minorgridcolor": "white",
                          "startlinecolor": "#2a3f5f"
                        },
                        "type": "carpet"
                      }
                    ],
                    "choropleth": [
                      {
                        "colorbar": {
                          "outlinewidth": 0,
                          "ticks": ""
                        },
                        "type": "choropleth"
                      }
                    ],
                    "contour": [
                      {
                        "colorbar": {
                          "outlinewidth": 0,
                          "ticks": ""
                        },
                        "colorscale": [
                          [
                            0,
                            "#0d0887"
                          ],
                          [
                            0.1111111111111111,
                            "#46039f"
                          ],
                          [
                            0.2222222222222222,
                            "#7201a8"
                          ],
                          [
                            0.3333333333333333,
                            "#9c179e"
                          ],
                          [
                            0.4444444444444444,
                            "#bd3786"
                          ],
                          [
                            0.5555555555555556,
                            "#d8576b"
                          ],
                          [
                            0.6666666666666666,
                            "#ed7953"
                          ],
                          [
                            0.7777777777777778,
                            "#fb9f3a"
                          ],
                          [
                            0.8888888888888888,
                            "#fdca26"
                          ],
                          [
                            1,
                            "#f0f921"
                          ]
                        ],
                        "type": "contour"
                      }
                    ],
                    "contourcarpet": [
                      {
                        "colorbar": {
                          "outlinewidth": 0,
                          "ticks": ""
                        },
                        "type": "contourcarpet"
                      }
                    ],
                    "heatmap": [
                      {
                        "colorbar": {
                          "outlinewidth": 0,
                          "ticks": ""
                        },
                        "colorscale": [
                          [
                            0,
                            "#0d0887"
                          ],
                          [
                            0.1111111111111111,
                            "#46039f"
                          ],
                          [
                            0.2222222222222222,
                            "#7201a8"
                          ],
                          [
                            0.3333333333333333,
                            "#9c179e"
                          ],
                          [
                            0.4444444444444444,
                            "#bd3786"
                          ],
                          [
                            0.5555555555555556,
                            "#d8576b"
                          ],
                          [
                            0.6666666666666666,
                            "#ed7953"
                          ],
                          [
                            0.7777777777777778,
                            "#fb9f3a"
                          ],
                          [
                            0.8888888888888888,
                            "#fdca26"
                          ],
                          [
                            1,
                            "#f0f921"
                          ]
                        ],
                        "type": "heatmap"
                      }
                    ],
                    "heatmapgl": [
                      {
                        "colorbar": {
                          "outlinewidth": 0,
                          "ticks": ""
                        },
                        "colorscale": [
                          [
                            0,
                            "#0d0887"
                          ],
                          [
                            0.1111111111111111,
                            "#46039f"
                          ],
                          [
                            0.2222222222222222,
                            "#7201a8"
                          ],
                          [
                            0.3333333333333333,
                            "#9c179e"
                          ],
                          [
                            0.4444444444444444,
                            "#bd3786"
                          ],
                          [
                            0.5555555555555556,
                            "#d8576b"
                          ],
                          [
                            0.6666666666666666,
                            "#ed7953"
                          ],
                          [
                            0.7777777777777778,
                            "#fb9f3a"
                          ],
                          [
                            0.8888888888888888,
                            "#fdca26"
                          ],
                          [
                            1,
                            "#f0f921"
                          ]
                        ],
                        "type": "heatmapgl"
                      }
                    ],
                    "histogram": [
                      {
                        "marker": {
                          "pattern": {
                            "fillmode": "overlay",
                            "size": 10,
                            "solidity": 0.2
                          }
                        },
                        "type": "histogram"
                      }
                    ],
                    "histogram2d": [
                      {
                        "colorbar": {
                          "outlinewidth": 0,
                          "ticks": ""
                        },
                        "colorscale": [
                          [
                            0,
                            "#0d0887"
                          ],
                          [
                            0.1111111111111111,
                            "#46039f"
                          ],
                          [
                            0.2222222222222222,
                            "#7201a8"
                          ],
                          [
                            0.3333333333333333,
                            "#9c179e"
                          ],
                          [
                            0.4444444444444444,
                            "#bd3786"
                          ],
                          [
                            0.5555555555555556,
                            "#d8576b"
                          ],
                          [
                            0.6666666666666666,
                            "#ed7953"
                          ],
                          [
                            0.7777777777777778,
                            "#fb9f3a"
                          ],
                          [
                            0.8888888888888888,
                            "#fdca26"
                          ],
                          [
                            1,
                            "#f0f921"
                          ]
                        ],
                        "type": "histogram2d"
                      }
                    ],
                    "histogram2dcontour": [
                      {
                        "colorbar": {
                          "outlinewidth": 0,
                          "ticks": ""
                        },
                        "colorscale": [
                          [
                            0,
                            "#0d0887"
                          ],
                          [
                            0.1111111111111111,
                            "#46039f"
                          ],
                          [
                            0.2222222222222222,
                            "#7201a8"
                          ],
                          [
                            0.3333333333333333,
                            "#9c179e"
                          ],
                          [
                            0.4444444444444444,
                            "#bd3786"
                          ],
                          [
                            0.5555555555555556,
                            "#d8576b"
                          ],
                          [
                            0.6666666666666666,
                            "#ed7953"
                          ],
                          [
                            0.7777777777777778,
                            "#fb9f3a"
                          ],
                          [
                            0.8888888888888888,
                            "#fdca26"
                          ],
                          [
                            1,
                            "#f0f921"
                          ]
                        ],
                        "type": "histogram2dcontour"
                      }
                    ],
                    "mesh3d": [
                      {
                        "colorbar": {
                          "outlinewidth": 0,
                          "ticks": ""
                        },
                        "type": "mesh3d"
                      }
                    ],
                    "parcoords": [
                      {
                        "line": {
                          "colorbar": {
                            "outlinewidth": 0,
                            "ticks": ""
                          }
                        },
                        "type": "parcoords"
                      }
                    ],
                    "pie": [
                      {
                        "automargin": true,
                        "type": "pie"
                      }
                    ],
                    "scatter": [
                      {
                        "fillpattern": {
                          "fillmode": "overlay",
                          "size": 10,
                          "solidity": 0.2
                        },
                        "type": "scatter"
                      }
                    ],
                    "scatter3d": [
                      {
                        "line": {
                          "colorbar": {
                            "outlinewidth": 0,
                            "ticks": ""
                          }
                        },
                        "marker": {
                          "colorbar": {
                            "outlinewidth": 0,
                            "ticks": ""
                          }
                        },
                        "type": "scatter3d"
                      }
                    ],
                    "scattercarpet": [
                      {
                        "marker": {
                          "colorbar": {
                            "outlinewidth": 0,
                            "ticks": ""
                          }
                        },
                        "type": "scattercarpet"
                      }
                    ],
                    "scattergeo": [
                      {
                        "marker": {
                          "colorbar": {
                            "outlinewidth": 0,
                            "ticks": ""
                          }
                        },
                        "type": "scattergeo"
                      }
                    ],
                    "scattergl": [
                      {
                        "marker": {
                          "colorbar": {
                            "outlinewidth": 0,
                            "ticks": ""
                          }
                        },
                        "type": "scattergl"
                      }
                    ],
                    "scattermapbox": [
                      {
                        "marker": {
                          "colorbar": {
                            "outlinewidth": 0,
                            "ticks": ""
                          }
                        },
                        "type": "scattermapbox"
                      }
                    ],
                    "scatterpolar": [
                      {
                        "marker": {
                          "colorbar": {
                            "outlinewidth": 0,
                            "ticks": ""
                          }
                        },
                        "type": "scatterpolar"
                      }
                    ],
                    "scatterpolargl": [
                      {
                        "marker": {
                          "colorbar": {
                            "outlinewidth": 0,
                            "ticks": ""
                          }
                        },
                        "type": "scatterpolargl"
                      }
                    ],
                    "scatterternary": [
                      {
                        "marker": {
                          "colorbar": {
                            "outlinewidth": 0,
                            "ticks": ""
                          }
                        },
                        "type": "scatterternary"
                      }
                    ],
                    "surface": [
                      {
                        "colorbar": {
                          "outlinewidth": 0,
                          "ticks": ""
                        },
                        "colorscale": [
                          [
                            0,
                            "#0d0887"
                          ],
                          [
                            0.1111111111111111,
                            "#46039f"
                          ],
                          [
                            0.2222222222222222,
                            "#7201a8"
                          ],
                          [
                            0.3333333333333333,
                            "#9c179e"
                          ],
                          [
                            0.4444444444444444,
                            "#bd3786"
                          ],
                          [
                            0.5555555555555556,
                            "#d8576b"
                          ],
                          [
                            0.6666666666666666,
                            "#ed7953"
                          ],
                          [
                            0.7777777777777778,
                            "#fb9f3a"
                          ],
                          [
                            0.8888888888888888,
                            "#fdca26"
                          ],
                          [
                            1,
                            "#f0f921"
                          ]
                        ],
                        "type": "surface"
                      }
                    ],
                    "table": [
                      {
                        "cells": {
                          "fill": {
                            "color": "#EBF0F8"
                          },
                          "line": {
                            "color": "white"
                          }
                        },
                        "header": {
                          "fill": {
                            "color": "#C8D4E3"
                          },
                          "line": {
                            "color": "white"
                          }
                        },
                        "type": "table"
                      }
                    ]
                  },
                  "layout": {
                    "annotationdefaults": {
                      "arrowcolor": "#2a3f5f",
                      "arrowhead": 0,
                      "arrowwidth": 1
                    },
                    "autotypenumbers": "strict",
                    "coloraxis": {
                      "colorbar": {
                        "outlinewidth": 0,
                        "ticks": ""
                      }
                    },
                    "colorscale": {
                      "diverging": [
                        [
                          0,
                          "#8e0152"
                        ],
                        [
                          0.1,
                          "#c51b7d"
                        ],
                        [
                          0.2,
                          "#de77ae"
                        ],
                        [
                          0.3,
                          "#f1b6da"
                        ],
                        [
                          0.4,
                          "#fde0ef"
                        ],
                        [
                          0.5,
                          "#f7f7f7"
                        ],
                        [
                          0.6,
                          "#e6f5d0"
                        ],
                        [
                          0.7,
                          "#b8e186"
                        ],
                        [
                          0.8,
                          "#7fbc41"
                        ],
                        [
                          0.9,
                          "#4d9221"
                        ],
                        [
                          1,
                          "#276419"
                        ]
                      ],
                      "sequential": [
                        [
                          0,
                          "#0d0887"
                        ],
                        [
                          0.1111111111111111,
                          "#46039f"
                        ],
                        [
                          0.2222222222222222,
                          "#7201a8"
                        ],
                        [
                          0.3333333333333333,
                          "#9c179e"
                        ],
                        [
                          0.4444444444444444,
                          "#bd3786"
                        ],
                        [
                          0.5555555555555556,
                          "#d8576b"
                        ],
                        [
                          0.6666666666666666,
                          "#ed7953"
                        ],
                        [
                          0.7777777777777778,
                          "#fb9f3a"
                        ],
                        [
                          0.8888888888888888,
                          "#fdca26"
                        ],
                        [
                          1,
                          "#f0f921"
                        ]
                      ],
                      "sequentialminus": [
                        [
                          0,
                          "#0d0887"
                        ],
                        [
                          0.1111111111111111,
                          "#46039f"
                        ],
                        [
                          0.2222222222222222,
                          "#7201a8"
                        ],
                        [
                          0.3333333333333333,
                          "#9c179e"
                        ],
                        [
                          0.4444444444444444,
                          "#bd3786"
                        ],
                        [
                          0.5555555555555556,
                          "#d8576b"
                        ],
                        [
                          0.6666666666666666,
                          "#ed7953"
                        ],
                        [
                          0.7777777777777778,
                          "#fb9f3a"
                        ],
                        [
                          0.8888888888888888,
                          "#fdca26"
                        ],
                        [
                          1,
                          "#f0f921"
                        ]
                      ]
                    },
                    "colorway": [
                      "#636efa",
                      "#EF553B",
                      "#00cc96",
                      "#ab63fa",
                      "#FFA15A",
                      "#19d3f3",
                      "#FF6692",
                      "#B6E880",
                      "#FF97FF",
                      "#FECB52"
                    ],
                    "font": {
                      "color": "#2a3f5f"
                    },
                    "geo": {
                      "bgcolor": "white",
                      "lakecolor": "white",
                      "landcolor": "#E5ECF6",
                      "showlakes": true,
                      "showland": true,
                      "subunitcolor": "white"
                    },
                    "hoverlabel": {
                      "align": "left"
                    },
                    "hovermode": "closest",
                    "mapbox": {
                      "style": "light"
                    },
                    "paper_bgcolor": "white",
                    "plot_bgcolor": "#E5ECF6",
                    "polar": {
                      "angularaxis": {
                        "gridcolor": "white",
                        "linecolor": "white",
                        "ticks": ""
                      },
                      "bgcolor": "#E5ECF6",
                      "radialaxis": {
                        "gridcolor": "white",
                        "linecolor": "white",
                        "ticks": ""
                      }
                    },
                    "scene": {
                      "xaxis": {
                        "backgroundcolor": "#E5ECF6",
                        "gridcolor": "white",
                        "gridwidth": 2,
                        "linecolor": "white",
                        "showbackground": true,
                        "ticks": "",
                        "zerolinecolor": "white"
                      },
                      "yaxis": {
                        "backgroundcolor": "#E5ECF6",
                        "gridcolor": "white",
                        "gridwidth": 2,
                        "linecolor": "white",
                        "showbackground": true,
                        "ticks": "",
                        "zerolinecolor": "white"
                      },
                      "zaxis": {
                        "backgroundcolor": "#E5ECF6",
                        "gridcolor": "white",
                        "gridwidth": 2,
                        "linecolor": "white",
                        "showbackground": true,
                        "ticks": "",
                        "zerolinecolor": "white"
                      }
                    },
                    "shapedefaults": {
                      "line": {
                        "color": "#2a3f5f"
                      }
                    },
                    "ternary": {
                      "aaxis": {
                        "gridcolor": "white",
                        "linecolor": "white",
                        "ticks": ""
                      },
                      "baxis": {
                        "gridcolor": "white",
                        "linecolor": "white",
                        "ticks": ""
                      },
                      "bgcolor": "#E5ECF6",
                      "caxis": {
                        "gridcolor": "white",
                        "linecolor": "white",
                        "ticks": ""
                      }
                    },
                    "title": {
                      "x": 0.05
                    },
                    "xaxis": {
                      "automargin": true,
                      "gridcolor": "white",
                      "linecolor": "white",
                      "ticks": "",
                      "title": {
                        "standoff": 15
                      },
                      "zerolinecolor": "white",
                      "zerolinewidth": 2
                    },
                    "yaxis": {
                      "automargin": true,
                      "gridcolor": "white",
                      "linecolor": "white",
                      "ticks": "",
                      "title": {
                        "standoff": 15
                      },
                      "zerolinecolor": "white",
                      "zerolinewidth": 2
                    }
                  }
                },
                "width": 800
              }
            }
          },
          "metadata": {},
          "output_type": "display_data"
        }
      ],
      "source": [
        "import plotly.express as px\n",
        "px.scatter_mapbox(data, lat = 'latitude', lon = 'longitude', text = 'name',\n",
        "                  mapbox_style = 'open-street-map', zoom=1, height=600, width=800)"
      ]
    },
    {
      "cell_type": "code",
      "execution_count": 6,
      "metadata": {
        "colab": {
          "base_uri": "https://localhost:8080/",
          "height": 775
        },
        "id": "4hW7nXA6rIjV",
        "outputId": "0e43f583-97fc-46d1-a06c-40c81492773b"
      },
      "outputs": [
        {
          "data": {
            "text/plain": [
              "<Axes: xlabel='latitude', ylabel='longitude'>"
            ]
          },
          "execution_count": 6,
          "metadata": {},
          "output_type": "execute_result"
        },
        {
          "data": {
            "image/png": "[encoded data removed]",
            "text/plain": [
              "<Figure size 1000x1000 with 1 Axes>"
            ]
          },
          "metadata": {},
          "output_type": "display_data"
        }
      ],
      "source": [
        "plt.figure(figsize = (10,10))\n",
        "sns.scatterplot(x = \"latitude\",y = \"longitude\",data = data)"
      ]
    },
    {
      "cell_type": "code",
      "execution_count": 7,
      "metadata": {
        "colab": {
          "base_uri": "https://localhost:8080/",
          "height": 423
        },
        "id": "Ptvq7lNsv2nR",
        "outputId": "f17a6adb-dfb4-4b29-84fc-997e7c303032"
      },
      "outputs": [
        {
          "data": {
            "text/html": [
              "<div>\n",
              "<style scoped>\n",
              "    .dataframe tbody tr th:only-of-type {\n",
              "        vertical-align: middle;\n",
              "    }\n",
              "\n",
              "    .dataframe tbody tr th {\n",
              "        vertical-align: top;\n",
              "    }\n",
              "\n",
              "    .dataframe thead th {\n",
              "        text-align: right;\n",
              "    }\n",
              "</style>\n",
              "<table border=\"1\" class=\"dataframe\">\n",
              "  <thead>\n",
              "    <tr style=\"text-align: right;\">\n",
              "      <th></th>\n",
              "      <th>latitude</th>\n",
              "      <th>longitude</th>\n",
              "    </tr>\n",
              "  </thead>\n",
              "  <tbody>\n",
              "    <tr>\n",
              "      <th>0</th>\n",
              "      <td>42.546245</td>\n",
              "      <td>1.601554</td>\n",
              "    </tr>\n",
              "    <tr>\n",
              "      <th>1</th>\n",
              "      <td>23.424076</td>\n",
              "      <td>53.847818</td>\n",
              "    </tr>\n",
              "    <tr>\n",
              "      <th>2</th>\n",
              "      <td>33.939110</td>\n",
              "      <td>67.709953</td>\n",
              "    </tr>\n",
              "    <tr>\n",
              "      <th>3</th>\n",
              "      <td>17.060816</td>\n",
              "      <td>-61.796428</td>\n",
              "    </tr>\n",
              "    <tr>\n",
              "      <th>4</th>\n",
              "      <td>18.220554</td>\n",
              "      <td>-63.068615</td>\n",
              "    </tr>\n",
              "    <tr>\n",
              "      <th>...</th>\n",
              "      <td>...</td>\n",
              "      <td>...</td>\n",
              "    </tr>\n",
              "    <tr>\n",
              "      <th>240</th>\n",
              "      <td>15.552727</td>\n",
              "      <td>48.516388</td>\n",
              "    </tr>\n",
              "    <tr>\n",
              "      <th>241</th>\n",
              "      <td>-12.827500</td>\n",
              "      <td>45.166244</td>\n",
              "    </tr>\n",
              "    <tr>\n",
              "      <th>242</th>\n",
              "      <td>-30.559482</td>\n",
              "      <td>22.937506</td>\n",
              "    </tr>\n",
              "    <tr>\n",
              "      <th>243</th>\n",
              "      <td>-13.133897</td>\n",
              "      <td>27.849332</td>\n",
              "    </tr>\n",
              "    <tr>\n",
              "      <th>244</th>\n",
              "      <td>-19.015438</td>\n",
              "      <td>29.154857</td>\n",
              "    </tr>\n",
              "  </tbody>\n",
              "</table>\n",
              "<p>243 rows × 2 columns</p>\n",
              "</div>"
            ],
            "text/plain": [
              "      latitude  longitude\n",
              "0    42.546245   1.601554\n",
              "1    23.424076  53.847818\n",
              "2    33.939110  67.709953\n",
              "3    17.060816 -61.796428\n",
              "4    18.220554 -63.068615\n",
              "..         ...        ...\n",
              "240  15.552727  48.516388\n",
              "241 -12.827500  45.166244\n",
              "242 -30.559482  22.937506\n",
              "243 -13.133897  27.849332\n",
              "244 -19.015438  29.154857\n",
              "\n",
              "[243 rows x 2 columns]"
            ]
          },
          "execution_count": 7,
          "metadata": {},
          "output_type": "execute_result"
        }
      ],
      "source": [
        "data.isna().sum()\n",
        "data = data.dropna()\n",
        "\n",
        "x = data.drop(['name','country'],axis = 1)\n",
        "x"
      ]
    },
    {
      "cell_type": "markdown",
      "metadata": {
        "id": "0qR4DGeuL4RM"
      },
      "source": [
        "**KMEANS**\n",
        "**bold text**"
      ]
    },
    {
      "cell_type": "code",
      "execution_count": 8,
      "metadata": {
        "colab": {
          "base_uri": "https://localhost:8080/"
        },
        "id": "Ngol36C6APzh",
        "outputId": "fc14c34c-cb9e-454f-ec73-449ed3fa00f9"
      },
      "outputs": [
        {
          "name": "stderr",
          "output_type": "stream",
          "text": [
            "Exception in thread Thread-8 (_readerthread):\n",
            "Traceback (most recent call last):\n",
            "  File \"c:\\Users\\nguye\\anaconda3\\envs\\iot\\Lib\\threading.py\", line 1073, in _bootstrap_inner\n",
            "    self.run()\n",
            "  File \"c:\\Users\\nguye\\anaconda3\\envs\\iot\\Lib\\site-packages\\ipykernel\\ipkernel.py\", line 766, in run_closure\n",
            "    _threading_Thread_run(self)\n",
            "  File \"c:\\Users\\nguye\\anaconda3\\envs\\iot\\Lib\\threading.py\", line 1010, in run\n",
            "    self._target(*self._args, **self._kwargs)\n",
            "  File \"c:\\Users\\nguye\\anaconda3\\envs\\iot\\Lib\\subprocess.py\", line 1599, in _readerthread\n",
            "    buffer.append(fh.read())\n",
            "                  ^^^^^^^^^\n",
            "  File \"<frozen codecs>\", line 322, in decode\n",
            "UnicodeDecodeError: 'utf-8' codec can't decode byte 0xdd in position 35: invalid continuation byte\n",
            "c:\\Users\\nguye\\anaconda3\\envs\\iot\\Lib\\site-packages\\joblib\\externals\\loky\\backend\\context.py:136: UserWarning:\n",
            "\n",
            "Could not find the number of physical cores for the following reason:\n",
            "'NoneType' object has no attribute 'splitlines'\n",
            "Returning the number of logical cores instead. You can silence this warning by setting LOKY_MAX_CPU_COUNT to the number of cores you want to use.\n",
            "\n",
            "  File \"c:\\Users\\nguye\\anaconda3\\envs\\iot\\Lib\\site-packages\\joblib\\externals\\loky\\backend\\context.py\", line 262, in _count_physical_cores\n",
            "    cpu_info = cpu_info.stdout.splitlines()\n",
            "               ^^^^^^^^^^^^^^^^^^^^^^^^^^\n",
            "c:\\Users\\nguye\\anaconda3\\envs\\iot\\Lib\\site-packages\\sklearn\\cluster\\_kmeans.py:1429: UserWarning:\n",
            "\n",
            "KMeans is known to have a memory leak on Windows with MKL, when there are less chunks than available threads. You can avoid it by setting the environment variable OMP_NUM_THREADS=1.\n",
            "\n",
            "c:\\Users\\nguye\\anaconda3\\envs\\iot\\Lib\\site-packages\\sklearn\\cluster\\_kmeans.py:1429: UserWarning:\n",
            "\n",
            "KMeans is known to have a memory leak on Windows with MKL, when there are less chunks than available threads. You can avoid it by setting the environment variable OMP_NUM_THREADS=1.\n",
            "\n",
            "c:\\Users\\nguye\\anaconda3\\envs\\iot\\Lib\\site-packages\\sklearn\\cluster\\_kmeans.py:1429: UserWarning:\n",
            "\n",
            "KMeans is known to have a memory leak on Windows with MKL, when there are less chunks than available threads. You can avoid it by setting the environment variable OMP_NUM_THREADS=1.\n",
            "\n",
            "c:\\Users\\nguye\\anaconda3\\envs\\iot\\Lib\\site-packages\\sklearn\\cluster\\_kmeans.py:1429: UserWarning:\n",
            "\n",
            "KMeans is known to have a memory leak on Windows with MKL, when there are less chunks than available threads. You can avoid it by setting the environment variable OMP_NUM_THREADS=1.\n",
            "\n",
            "c:\\Users\\nguye\\anaconda3\\envs\\iot\\Lib\\site-packages\\sklearn\\cluster\\_kmeans.py:1429: UserWarning:\n",
            "\n",
            "KMeans is known to have a memory leak on Windows with MKL, when there are less chunks than available threads. You can avoid it by setting the environment variable OMP_NUM_THREADS=1.\n",
            "\n",
            "c:\\Users\\nguye\\anaconda3\\envs\\iot\\Lib\\site-packages\\sklearn\\cluster\\_kmeans.py:1429: UserWarning:\n",
            "\n",
            "KMeans is known to have a memory leak on Windows with MKL, when there are less chunks than available threads. You can avoid it by setting the environment variable OMP_NUM_THREADS=1.\n",
            "\n",
            "c:\\Users\\nguye\\anaconda3\\envs\\iot\\Lib\\site-packages\\sklearn\\cluster\\_kmeans.py:1429: UserWarning:\n",
            "\n",
            "KMeans is known to have a memory leak on Windows with MKL, when there are less chunks than available threads. You can avoid it by setting the environment variable OMP_NUM_THREADS=1.\n",
            "\n",
            "c:\\Users\\nguye\\anaconda3\\envs\\iot\\Lib\\site-packages\\sklearn\\cluster\\_kmeans.py:1429: UserWarning:\n",
            "\n",
            "KMeans is known to have a memory leak on Windows with MKL, when there are less chunks than available threads. You can avoid it by setting the environment variable OMP_NUM_THREADS=1.\n",
            "\n",
            "c:\\Users\\nguye\\anaconda3\\envs\\iot\\Lib\\site-packages\\sklearn\\cluster\\_kmeans.py:1429: UserWarning:\n",
            "\n",
            "KMeans is known to have a memory leak on Windows with MKL, when there are less chunks than available threads. You can avoid it by setting the environment variable OMP_NUM_THREADS=1.\n",
            "\n"
          ]
        }
      ],
      "source": [
        "distorsions = []\n",
        "for k in range(1, 10):\n",
        "    kmeans = KMeans(n_clusters=k,random_state=42)\n",
        "    kmeans.fit(x)\n",
        "    distorsions.append(kmeans.inertia_)"
      ]
    },
    {
      "cell_type": "code",
      "execution_count": 9,
      "metadata": {
        "colab": {
          "base_uri": "https://localhost:8080/",
          "height": 494
        },
        "id": "buHKmZ3swnXZ",
        "outputId": "cc8531d7-5fae-455b-8351-fb55a9c3b051"
      },
      "outputs": [
        {
          "data": {
            "image/png": "[encoded data removed]",
            "text/plain": [
              "<Figure size 2000x1200 with 1 Axes>"
            ]
          },
          "metadata": {},
          "output_type": "display_data"
        }
      ],
      "source": [
        "plt.figure(figsize=(20,12))\n",
        "plt.plot(range(1,10),distorsions,'bx-')\n",
        "plt.xlabel(\"K\")\n",
        "plt.ylabel(\"Distorsion\")\n",
        "plt.title(\"Elbow\")\n",
        "plt.show()"
      ]
    },
    {
      "cell_type": "code",
      "execution_count": 10,
      "metadata": {
        "colab": {
          "base_uri": "https://localhost:8080/"
        },
        "id": "MuLYWYyhFerY",
        "outputId": "96a84c89-248e-4a0f-8acb-0cc5f74eba17"
      },
      "outputs": [
        {
          "name": "stderr",
          "output_type": "stream",
          "text": [
            "c:\\Users\\nguye\\anaconda3\\envs\\iot\\Lib\\site-packages\\sklearn\\cluster\\_kmeans.py:1429: UserWarning:\n",
            "\n",
            "KMeans is known to have a memory leak on Windows with MKL, when there are less chunks than available threads. You can avoid it by setting the environment variable OMP_NUM_THREADS=1.\n",
            "\n"
          ]
        },
        {
          "data": {
            "text/plain": [
              "array([[ 25.18463382,  21.11609071],\n",
              "       [  4.58866556, -85.17153469],\n",
              "       [  6.16733752, 120.63303011]])"
            ]
          },
          "execution_count": 10,
          "metadata": {},
          "output_type": "execute_result"
        }
      ],
      "source": [
        "kmeans = KMeans(n_clusters=3,random_state=42)\n",
        "kmeans.fit(x)\n",
        "y_pred = kmeans.predict(x)\n",
        "centers=kmeans.cluster_centers_\n",
        "centers\n"
      ]
    },
    {
      "cell_type": "code",
      "execution_count": 11,
      "metadata": {},
      "outputs": [
        {
          "data": {
            "text/html": [
              "<div>\n",
              "<style scoped>\n",
              "    .dataframe tbody tr th:only-of-type {\n",
              "        vertical-align: middle;\n",
              "    }\n",
              "\n",
              "    .dataframe tbody tr th {\n",
              "        vertical-align: top;\n",
              "    }\n",
              "\n",
              "    .dataframe thead th {\n",
              "        text-align: right;\n",
              "    }\n",
              "</style>\n",
              "<table border=\"1\" class=\"dataframe\">\n",
              "  <thead>\n",
              "    <tr style=\"text-align: right;\">\n",
              "      <th></th>\n",
              "      <th>latitude</th>\n",
              "      <th>longitude</th>\n",
              "    </tr>\n",
              "  </thead>\n",
              "  <tbody>\n",
              "    <tr>\n",
              "      <th>0</th>\n",
              "      <td>42.546245</td>\n",
              "      <td>1.601554</td>\n",
              "    </tr>\n",
              "    <tr>\n",
              "      <th>1</th>\n",
              "      <td>23.424076</td>\n",
              "      <td>53.847818</td>\n",
              "    </tr>\n",
              "    <tr>\n",
              "      <th>2</th>\n",
              "      <td>33.939110</td>\n",
              "      <td>67.709953</td>\n",
              "    </tr>\n",
              "    <tr>\n",
              "      <th>3</th>\n",
              "      <td>17.060816</td>\n",
              "      <td>-61.796428</td>\n",
              "    </tr>\n",
              "    <tr>\n",
              "      <th>4</th>\n",
              "      <td>18.220554</td>\n",
              "      <td>-63.068615</td>\n",
              "    </tr>\n",
              "    <tr>\n",
              "      <th>...</th>\n",
              "      <td>...</td>\n",
              "      <td>...</td>\n",
              "    </tr>\n",
              "    <tr>\n",
              "      <th>240</th>\n",
              "      <td>15.552727</td>\n",
              "      <td>48.516388</td>\n",
              "    </tr>\n",
              "    <tr>\n",
              "      <th>241</th>\n",
              "      <td>-12.827500</td>\n",
              "      <td>45.166244</td>\n",
              "    </tr>\n",
              "    <tr>\n",
              "      <th>242</th>\n",
              "      <td>-30.559482</td>\n",
              "      <td>22.937506</td>\n",
              "    </tr>\n",
              "    <tr>\n",
              "      <th>243</th>\n",
              "      <td>-13.133897</td>\n",
              "      <td>27.849332</td>\n",
              "    </tr>\n",
              "    <tr>\n",
              "      <th>244</th>\n",
              "      <td>-19.015438</td>\n",
              "      <td>29.154857</td>\n",
              "    </tr>\n",
              "  </tbody>\n",
              "</table>\n",
              "<p>243 rows × 2 columns</p>\n",
              "</div>"
            ],
            "text/plain": [
              "      latitude  longitude\n",
              "0    42.546245   1.601554\n",
              "1    23.424076  53.847818\n",
              "2    33.939110  67.709953\n",
              "3    17.060816 -61.796428\n",
              "4    18.220554 -63.068615\n",
              "..         ...        ...\n",
              "240  15.552727  48.516388\n",
              "241 -12.827500  45.166244\n",
              "242 -30.559482  22.937506\n",
              "243 -13.133897  27.849332\n",
              "244 -19.015438  29.154857\n",
              "\n",
              "[243 rows x 2 columns]"
            ]
          },
          "execution_count": 11,
          "metadata": {},
          "output_type": "execute_result"
        }
      ],
      "source": [
        "x"
      ]
    },
    {
      "cell_type": "code",
      "execution_count": 12,
      "metadata": {
        "colab": {
          "base_uri": "https://localhost:8080/",
          "height": 805
        },
        "id": "JTh1Vt99Fufb",
        "outputId": "d2da4ca8-ddf3-4d56-b7a4-4cdc9b5b20b3"
      },
      "outputs": [
        {
          "data": {
            "image/png": "[encoded data removed]",
            "text/plain": [
              "<Figure size 1000x1000 with 1 Axes>"
            ]
          },
          "metadata": {},
          "output_type": "display_data"
        }
      ],
      "source": [
        "# px.scatter_mapbox(x, lat=\"latitude\", lon=\"longitude\", text=\"name\", \n",
        "#                         color=\"KMeans_Cluster\", title=\"K-Meanss Clustering\",mapbox_style=\"open-street-map\",\n",
        "#                         zoom=1, height=600, width=800)\n",
        "plt.figure(figsize=(10,10))\n",
        "plt.scatter( x['latitude'], x['longitude'], c=y_pred, s=200)\n",
        "plt.xlabel(\"X\", fontsize=20)\n",
        "plt.ylabel(\"Y\", fontsize=20)\n",
        "plt.scatter(centers[:,0], centers[:,1],s=300,c = 'red')\n",
        "plt.title(\" KMeans\", fontsize=40)\n",
        "plt.show()"
      ]
    },
    {
      "cell_type": "markdown",
      "metadata": {
        "id": "um-LdDdpL_Bn"
      },
      "source": [
        "**DBSCAN**"
      ]
    },
    {
      "cell_type": "markdown",
      "metadata": {},
      "source": [
        "- eps : Nó xác định vùng lân cận xung quanh một điểm dữ liệu, tức là nếu khoảng cách giữa hai điểm nhỏ hơn hoặc bằng 'eps' thì chúng được coi là hàng xóm. Nếu giá trị eps được chọn quá nhỏ thì phần lớn dữ liệu sẽ được coi là ngoại lệ. Nếu nó được chọn rất lớn thì các cụm sẽ hợp nhất và phần lớn các điểm dữ liệu sẽ nằm trong cùng một cụm. Một cách để tìm giá trị eps dựa trên k-distance graph.\n",
        "\n",
        "- MinPts : Số lân cận tối thiểu (điểm dữ liệu) trong bán kính eps. Tập dữ liệu càng lớn thì phải chọn giá trị MinPts càng lớn. Giá trị tối thiểu của MinPts phải được chọn ít nhất là 3.\n",
        "\n",
        "\n",
        "- min_samples : Là MinPts nhưng tính điểm ở tâm"
      ]
    },
    {
      "cell_type": "code",
      "execution_count": 13,
      "metadata": {
        "colab": {
          "base_uri": "https://localhost:8080/",
          "height": 489
        },
        "id": "C0zvuptUqT3O",
        "outputId": "bc599e41-e636-49fa-bbe7-b4b75fc369e3"
      },
      "outputs": [
        {
          "data": {
            "text/plain": [
              "Text(0.5, 1.0, 'Sắp xếp Khoảng cách tối đa theo k Nearest Neighbor của kNN')"
            ]
          },
          "execution_count": 13,
          "metadata": {},
          "output_type": "execute_result"
        },
        {
          "data": {
            "image/png": "[encoded data removed]",
            "text/plain": [
              "<Figure size 640x480 with 1 Axes>"
            ]
          },
          "metadata": {},
          "output_type": "display_data"
        }
      ],
      "source": [
        "neighbors = 5\n",
        "knn = NearestNeighbors(n_neighbors=neighbors)\n",
        "knn.fit(x)\n",
        "distances, indices = knn.kneighbors(x)\n",
        "distance_dec = sorted(distances[:,neighbors-1],reverse = True)\n",
        "\n",
        "plt.plot(list(range(1,len(distance_dec )+1)), distance_dec)\n",
        "plt.ylabel('distance')\n",
        "plt.xlabel('indice')\n",
        "plt.title('Sắp xếp Khoảng cách tối đa theo k Nearest Neighbor của kNN')"
      ]
    },
    {
      "cell_type": "markdown",
      "metadata": {},
      "source": [
        "**Biểu đồ k-distance**\n",
        "\n",
        " - Đây là biểu đồ thể hiện giá trị khoảng cách trong thuật toán k-Means clustering đến k điểm láng giềng gần nhất.\n",
        "\n",
        " - Ứng với mỗi điểm chúng ta chỉ lựa chọn ra khoảng cách lớn nhất trong k\n",
        " khoảng cách. Những khoảng cách này trên đồ thị được sắp xếp theo thứ tự giảm dần. Các giá trị tốt của epsilon là vị trí mà biểu đồ này cho thấy xuất hiện một điểm khuỷ tay (elbow point):\n",
        " \n",
        " - Điểm gãy (elbow) là điểm mà tại đó sự tăng trưởng của khoảng cách bắt đầu đột ngột tăng mạnh.\n",
        "\n",
        " - Nếu epsilon được chọn quá nhỏ, một phần lớn dữ liệu sẽ không được phân cụm và được xem là nhiễu; trong khi đối với giá trị epsilon quá cao, các cụm sẽ hợp nhất và phần lớn các điểm sẽ nằm trong cùng một cụm.\n",
        "\n",
        " - Nói chung, các giá trị nhỏ của epsilon được ưu tiên hơn và theo quy tắc chung, chỉ một phần nhỏ các điểm nên nằm trong vùng lân cận epsilon."
      ]
    },
    {
      "cell_type": "code",
      "execution_count": 14,
      "metadata": {
        "colab": {
          "base_uri": "https://localhost:8080/",
          "height": 472
        },
        "id": "n5w4-lUhpX6p",
        "outputId": "522e0464-85f6-48e8-bbbc-8edc3bec2d5d"
      },
      "outputs": [
        {
          "data": {
            "image/png": "[encoded data removed]",
            "text/plain": [
              "<Figure size 640x480 with 1 Axes>"
            ]
          },
          "metadata": {},
          "output_type": "display_data"
        }
      ],
      "source": [
        "db = DBSCAN(min_samples = 5,eps = 20)\n",
        "db.fit(x)\n",
        "y_pred = db.fit_predict(x)\n",
        "\n",
        "plt.scatter(x['latitude'],x['longitude'],c = y_pred)\n",
        "plt.title('DBSCAN')\n",
        "plt.xlabel('latitude')\n",
        "plt.ylabel('longitude')\n",
        "plt.show()"
      ]
    },
    {
      "cell_type": "markdown",
      "metadata": {
        "id": "QteITH4T05YK"
      },
      "source": [
        "DENSITY_PEAK_CLUSTERING"
      ]
    },
    {
      "cell_type": "code",
      "execution_count": 15,
      "metadata": {
        "colab": {
          "base_uri": "https://localhost:8080/",
          "height": 472
        },
        "id": "JJJU3csx2LJt",
        "outputId": "4eeef9ef-bd10-4448-b9cd-ef5b0f1da308"
      },
      "outputs": [
        {
          "data": {
            "image/png": "[encoded data removed]",
            "text/plain": [
              "<Figure size 640x480 with 1 Axes>"
            ]
          },
          "metadata": {},
          "output_type": "display_data"
        }
      ],
      "source": [
        "def density_peak_clustering(data, dc, cluster_threshold=0.5):\n",
        "    # Step 1: Compute the distance matrix\n",
        "    dist = squareform(pdist(data))\n",
        "\n",
        "    # Step 2: Calculate the local density for each point\n",
        "    rho = np.sum(np.exp(-(dist / dc)**2), axis=1)\n",
        "\n",
        "    # Step 3: Calculate the minimum distance to a point with higher density\n",
        "    delta = np.zeros(len(data))\n",
        "    nearest_higher_density = np.zeros(len(data), dtype=int)\n",
        "\n",
        "    for i in range(len(data)):\n",
        "        mask = rho > rho[i]\n",
        "        if np.any(mask):\n",
        "            delta[i] = np.min(dist[i, mask])\n",
        "            nearest_higher_density[i] = np.where(mask)[0][np.argmin(dist[i, mask])]\n",
        "        else:\n",
        "            delta[i] = np.max(dist[i])\n",
        "            nearest_higher_density[i] = i\n",
        "\n",
        "    # Step 4: Identify cluster centers\n",
        "    gamma = rho * delta\n",
        "    cluster_centers = np.where(gamma > cluster_threshold * np.max(gamma))[0]\n",
        "\n",
        "    # Step 5: Assign clusters\n",
        "    labels = -np.ones(len(data), dtype=int)\n",
        "    for center in cluster_centers:\n",
        "        labels[center] = center\n",
        "\n",
        "    for i in range(len(data)):\n",
        "        if labels[i] == -1:\n",
        "            labels[i] = labels[nearest_higher_density[i]]\n",
        "\n",
        "    return labels, cluster_centers\n",
        "\n",
        "# Generate synthetic data\n",
        "\n",
        "# Set the cutoff distance (dc) as a percentage of the maximum distance\n",
        "dc = np.percentile(squareform(pdist(x)), 2)\n",
        "\n",
        "# Run Density Peak Clustering\n",
        "labels, cluster_centers = density_peak_clustering(x, dc)\n",
        "\n",
        "# Plot results\n",
        "plt.scatter(x['latitude'], x['longitude'], c=labels, cmap='coolwarm', marker='o', edgecolor='k')\n",
        "plt.scatter(x.loc[[0],'latitude'], x.loc[[0],'longitude'], c='red', marker='x', s=200, label='Cluster Centers')\n",
        "plt.title('Density Peak Clustering')\n",
        "plt.xlabel('Feature 1')\n",
        "plt.ylabel('Feature 2')\n",
        "plt.legend()\n",
        "plt.show()"
      ]
    },
    {
      "cell_type": "markdown",
      "metadata": {
        "id": "VmvmLhu_2kNW"
      },
      "source": [
        "1. Kmeans\n",
        "\n",
        "- Ưu điểm: Đơn giản, dễ hiểu và triển khai.\n",
        "\n",
        "- Nhược điểm: Phụ thuộc vào việc chọn K ban đầu, nhạy cảm với các điểm ngoại lai, chỉ phù hợp với các cụm hình tròn và có kích thước tương đương nhau.\n",
        "\n"
      ]
    },
    {
      "cell_type": "markdown",
      "metadata": {
        "id": "dhjiDWxz_87b"
      },
      "source": [
        "2. DBSCAN\n",
        "\n",
        "- Ưu điểm: Không cần xác định số cụm trước, có thể phát hiện các cụm có hình dạng bất kỳ, không bị ảnh hưởng bởi ngoại lai.\n",
        "\n",
        "- Nhược điểm: Khó chọn các tham số eps (bán kính lân cận) và min_samples (số điểm tối thiểu trong một cụm)."
      ]
    }
  ],
  "metadata": {
    "colab": {
      "provenance": []
    },
    "kernelspec": {
      "display_name": "iot",
      "language": "python",
      "name": "python3"
    },
    "language_info": {
      "codemirror_mode": {
        "name": "ipython",
        "version": 3
      },
      "file_extension": ".py",
      "mimetype": "text/x-python",
      "name": "python",
      "nbconvert_exporter": "python",
      "pygments_lexer": "ipython3",
      "version": "3.12.4"
    }
  },
  "nbformat": 4,
  "nbformat_minor": 0
}
